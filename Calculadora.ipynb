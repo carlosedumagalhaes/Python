{
  "nbformat": 4,
  "nbformat_minor": 0,
  "metadata": {
    "colab": {
      "name": "Calculadora.ipynb",
      "provenance": [],
      "include_colab_link": true
    },
    "kernelspec": {
      "name": "python3",
      "display_name": "Python 3"
    }
  },
  "cells": [
    {
      "cell_type": "markdown",
      "metadata": {
        "id": "view-in-github",
        "colab_type": "text"
      },
      "source": [
        "<a href=\"https://colab.research.google.com/github/carlosedumagalhaes/Python/blob/master/Calculadora.ipynb\" target=\"_parent\"><img src=\"https://colab.research.google.com/assets/colab-badge.svg\" alt=\"Open In Colab\"/></a>"
      ]
    },
    {
      "cell_type": "code",
      "metadata": {
        "id": "KyOTfrCWl-p6",
        "colab_type": "code",
        "outputId": "82093146-94f5-4219-b121-2de6ac1a4ecb",
        "colab": {
          "base_uri": "https://localhost:8080/",
          "height": 254
        }
      },
      "source": [
        "#-*- coding: utf-8 -*-\n",
        "\n",
        "#Calculadora - Autor:Carlos - Função: contas básicas\n",
        "\n",
        "print (\"---- Calculadora Médio!-----\")\n",
        "\n",
        "sair = False\n",
        "\n",
        "while sair == False:\n",
        "\n",
        "  num1 = input (\"digite o primeiro número: \")\n",
        "  num1 = int(num1)\n",
        "  operador = input (\"digite o operador (+-/*): \")\n",
        "  num2 = input (\"digite o segundo número: \")\n",
        "  num2 = int(num2)\n",
        "\n",
        "  # + soma\n",
        "  if operador == \"+\":\n",
        "    operacao = num1 + num2\n",
        "  # - subtração\n",
        "  if operador == \"-\":\n",
        "    operacao = num1 - num2\n",
        "  # * multiplicação\n",
        "  if operador == \"*\":\n",
        "    operacao = num1 * num2\n",
        "  # / divisão\n",
        "  if operador ==\"/\":\n",
        "    operacao = num1/num2\n",
        "\n",
        "  print (\"resultado: \")\n",
        "  print (operacao)\n",
        "\n",
        "  teste = input (\"Deseja sair? (n/s)\")\n",
        "  if teste == \"s\":\n",
        "    sair = True\n",
        "\n",
        "\n",
        "\n",
        "\n",
        "\n",
        "\n",
        "\n",
        "\n",
        "\n",
        "\n",
        "\n",
        "\n",
        "\n",
        "\n",
        "\n"
      ],
      "execution_count": 1,
      "outputs": [
        {
          "output_type": "stream",
          "text": [
            "---- Calculadora Médio!-----\n",
            "digite o primeiro número: 10\n",
            "digite o operador (+-/*): -\n",
            "digite o segundo número: 25\n",
            "resultado: \n",
            "-15\n",
            "Deseja sair? (n/s)n\n",
            "digite o primeiro número: 89\n",
            "digite o operador (+-/*): +\n",
            "digite o segundo número: 15236987413\n",
            "resultado: \n",
            "15236987502\n",
            "Deseja sair? (n/s)s\n"
          ],
          "name": "stdout"
        }
      ]
    }
  ]
}